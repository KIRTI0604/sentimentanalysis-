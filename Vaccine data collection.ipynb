{
 "cells": [
  {
   "cell_type": "code",
   "execution_count": 8,
   "id": "c9886f8b",
   "metadata": {},
   "outputs": [
    {
     "name": "stdout",
     "output_type": "stream",
     "text": [
      "cell 22/1/22\n"
     ]
    }
   ],
   "source": [
    "#calling all needed packages\n",
    "import os\n",
    "import pandas as pd\n",
    "import matplotlib.pyplot as plt\n",
    "import seaborn as sns\n",
    "import itertools\n",
    "import collections\n",
    "\n",
    "import tweepy as tw\n",
    "import nltk\n",
    "from nltk.corpus import stopwords\n",
    "import re\n",
    "import networkx\n",
    "from textblob import TextBlob\n",
    "\n",
    "import warnings\n",
    "import csv\n",
    "warnings.filterwarnings(\"ignore\")\n",
    "\n",
    "sns.set(font_scale=1.5)\n",
    "sns.set_style(\"whitegrid\")\n",
    "print(\"cell 22/1/22\")"
   ]
  },
  {
   "cell_type": "code",
   "execution_count": 9,
   "id": "10a0f603",
   "metadata": {},
   "outputs": [
    {
     "name": "stdout",
     "output_type": "stream",
     "text": [
      "cell2  22/1/22\n"
     ]
    }
   ],
   "source": [
    "consumer_key=\"d6nkOYidvIcLAfqgeGe0DuFvI\"\n",
    "consumer_scret=\"0L2XsVoJSF1srSSgTyUktXZhmRMg6sPNZgDuO9WKYGhlWajEKC\"\n",
    "access_token=\"1377948754658009093-IrIAIU94d1Y9q6WxO5mMLC0Z9yzpwm\"\n",
    "access_token_scret=\"KNrBBuGUC6jf5ahb56wIzqoJRdV0A8AdWfgFDJhdOyaER\"\n",
    "print(\"cell2  22/1/22\")"
   ]
  },
  {
   "cell_type": "code",
   "execution_count": 10,
   "id": "65ec78d8",
   "metadata": {},
   "outputs": [
    {
     "name": "stdout",
     "output_type": "stream",
     "text": [
      "cell3  22/1/22\n"
     ]
    }
   ],
   "source": [
    "#authontication\n",
    "auth=tw.OAuthHandler(consumer_key,consumer_scret)\n",
    "auth.set_access_token(access_token,access_token_scret)\n",
    "api=tw.API(auth,wait_on_rate_limit=True)\n",
    "print(\"cell3  22/1/22\")"
   ]
  },
  {
   "cell_type": "code",
   "execution_count": 11,
   "id": "c9235e0d",
   "metadata": {},
   "outputs": [
    {
     "name": "stdout",
     "output_type": "stream",
     "text": [
      "cell 4 22/1/22\n"
     ]
    }
   ],
   "source": [
    "#remove url\n",
    "def remove_url(txt):\n",
    "    \"\"\"Replace URLs found in a text string with nothing \n",
    "    (i.e. it will remove the URL from the string).\n",
    "\n",
    "    Parameters\n",
    "    ----------\n",
    "    txt : string\n",
    "        A text string that you want to parse and remove urls.\n",
    "\n",
    "    Returns\n",
    "    -------\n",
    "    The same txt string with url's removed.\n",
    "    \"\"\"\n",
    "\n",
    "    return \" \".join(re.sub(\"([^0-9A-Za-z \\t])|(\\w+:\\/\\/\\S+)\", \"\", txt).split())\n",
    "print(\"cell 4 22/1/22\")"
   ]
  },
  {
   "cell_type": "code",
   "execution_count": null,
   "id": "fa012267",
   "metadata": {},
   "outputs": [],
   "source": []
  },
  {
   "cell_type": "code",
   "execution_count": 12,
   "id": "e899ea4c",
   "metadata": {},
   "outputs": [
    {
     "name": "stdout",
     "output_type": "stream",
     "text": [
      "<class 'tweepy.models.Status'>\n",
      "data added\n"
     ]
    }
   ],
   "source": [
    "#various file are created with several #tags on mask to collect all tweets and sorted them in seperate file INDIA MASKTWEETS.csv\n",
    "import csv\n",
    "search_term = \"#maskoff\"+ \"-filter:retweets\"\n",
    "csvFile=open(r'C:\\Users\\DELL\\Desktop\\RNTU\\dataset prepared\\hmaskoffnew.csv','w')\n",
    "\n",
    "\n",
    "with csvFile:\n",
    "    csvWriter=csv.writer(csvFile)\n",
    "    for tweet in  tw.Cursor(api.search,\n",
    "                   q=search_term,\n",
    "                   lang=\"en\",\n",
    "                   since='2022-01-20').items():\n",
    "      csvWriter.writerow([tweet.created_at,tweet.text.encode('utf-8'),tweet.user.screen_name.encode('utf-8'),tweet.user.location.encode('utf-8')])\n",
    "print(type(tweet))\n",
    "print(\"data added\")"
   ]
  },
  {
   "cell_type": "code",
   "execution_count": 13,
   "id": "65b4f417",
   "metadata": {
    "scrolled": true
   },
   "outputs": [
    {
     "data": {
      "text/html": [
       "<div>\n",
       "<style scoped>\n",
       "    .dataframe tbody tr th:only-of-type {\n",
       "        vertical-align: middle;\n",
       "    }\n",
       "\n",
       "    .dataframe tbody tr th {\n",
       "        vertical-align: top;\n",
       "    }\n",
       "\n",
       "    .dataframe thead th {\n",
       "        text-align: right;\n",
       "    }\n",
       "</style>\n",
       "<table border=\"1\" class=\"dataframe\">\n",
       "  <thead>\n",
       "    <tr style=\"text-align: right;\">\n",
       "      <th></th>\n",
       "      <th>created_at</th>\n",
       "      <th>text</th>\n",
       "      <th>screen_name</th>\n",
       "      <th>location</th>\n",
       "    </tr>\n",
       "  </thead>\n",
       "  <tbody>\n",
       "    <tr>\n",
       "      <th>0</th>\n",
       "      <td>30-01-2022 09:08</td>\n",
       "      <td>b'Giveaway of the Day : PDF Mixer Pro 1.4.1 ht...</td>\n",
       "      <td>b'KostNixx'</td>\n",
       "      <td>b''</td>\n",
       "    </tr>\n",
       "    <tr>\n",
       "      <th>1</th>\n",
       "      <td>30-01-2022 09:04</td>\n",
       "      <td>b'#Russia #HomeOffice UK urged to suspend \\xe2...</td>\n",
       "      <td>b'videoactualize'</td>\n",
       "      <td>b'Somerset, United Kingdom'</td>\n",
       "    </tr>\n",
       "    <tr>\n",
       "      <th>2</th>\n",
       "      <td>30-01-2022 09:00</td>\n",
       "      <td>b'Have you tried adding greenery to your desk?...</td>\n",
       "      <td>b'FlexispotU'</td>\n",
       "      <td>b'London, England'</td>\n",
       "    </tr>\n",
       "    <tr>\n",
       "      <th>3</th>\n",
       "      <td>30-01-2022 08:49</td>\n",
       "      <td>b'Calls for UK to suspend \\xe2\\x80\\x98golden v...</td>\n",
       "      <td>b'UKVisaBarrister'</td>\n",
       "      <td>b'London, UK'</td>\n",
       "    </tr>\n",
       "    <tr>\n",
       "      <th>4</th>\n",
       "      <td>30-01-2022 08:40</td>\n",
       "      <td>b'NBR Yoga Set 7 Pcs\\n\\xe2\\x9e\\xa2\\xe2\\x9e\\xa2...</td>\n",
       "      <td>b'make_home_cozy'</td>\n",
       "      <td>b''</td>\n",
       "    </tr>\n",
       "  </tbody>\n",
       "</table>\n",
       "</div>"
      ],
      "text/plain": [
       "         created_at                                               text  \\\n",
       "0  30-01-2022 09:08  b'Giveaway of the Day : PDF Mixer Pro 1.4.1 ht...   \n",
       "1  30-01-2022 09:04  b'#Russia #HomeOffice UK urged to suspend \\xe2...   \n",
       "2  30-01-2022 09:00  b'Have you tried adding greenery to your desk?...   \n",
       "3  30-01-2022 08:49  b'Calls for UK to suspend \\xe2\\x80\\x98golden v...   \n",
       "4  30-01-2022 08:40  b'NBR Yoga Set 7 Pcs\\n\\xe2\\x9e\\xa2\\xe2\\x9e\\xa2...   \n",
       "\n",
       "          screen_name                     location  \n",
       "0         b'KostNixx'                          b''  \n",
       "1   b'videoactualize'  b'Somerset, United Kingdom'  \n",
       "2       b'FlexispotU'           b'London, England'  \n",
       "3  b'UKVisaBarrister'                b'London, UK'  \n",
       "4   b'make_home_cozy'                          b''  "
      ]
     },
     "execution_count": 13,
     "metadata": {},
     "output_type": "execute_result"
    }
   ],
   "source": [
    "#collected indian tweets\n",
    "import numpy as np\n",
    "tweets = pd.read_csv(r'C:\\Users\\DELL\\Desktop\\RNTU\\dataset prepared\\workfromhome\\hWFH_COMBINE.csv',header=None,names=[\"created_at\",\"text\",\"screen_name\",\"location\"])\n",
    "np.random.seed(0)\n",
    "tweets.head()"
   ]
  },
  {
   "cell_type": "code",
   "execution_count": 14,
   "id": "ff3f5f8e",
   "metadata": {},
   "outputs": [
    {
     "name": "stdout",
     "output_type": "stream",
     "text": [
      "(6719, 4)\n"
     ]
    }
   ],
   "source": [
    "print(tweets.shape)\n",
    "#print(test.shape)"
   ]
  },
  {
   "cell_type": "code",
   "execution_count": 15,
   "id": "3b4ae4ac",
   "metadata": {},
   "outputs": [
    {
     "data": {
      "text/html": [
       "<div>\n",
       "<style scoped>\n",
       "    .dataframe tbody tr th:only-of-type {\n",
       "        vertical-align: middle;\n",
       "    }\n",
       "\n",
       "    .dataframe tbody tr th {\n",
       "        vertical-align: top;\n",
       "    }\n",
       "\n",
       "    .dataframe thead th {\n",
       "        text-align: right;\n",
       "    }\n",
       "</style>\n",
       "<table border=\"1\" class=\"dataframe\">\n",
       "  <thead>\n",
       "    <tr style=\"text-align: right;\">\n",
       "      <th></th>\n",
       "      <th>location</th>\n",
       "      <th>screen_name</th>\n",
       "    </tr>\n",
       "  </thead>\n",
       "  <tbody>\n",
       "    <tr>\n",
       "      <th>0</th>\n",
       "      <td>b''</td>\n",
       "      <td>b'KostNixx'</td>\n",
       "    </tr>\n",
       "    <tr>\n",
       "      <th>1</th>\n",
       "      <td>b'Somerset, United Kingdom'</td>\n",
       "      <td>b'videoactualize'</td>\n",
       "    </tr>\n",
       "    <tr>\n",
       "      <th>2</th>\n",
       "      <td>b'London, England'</td>\n",
       "      <td>b'FlexispotU'</td>\n",
       "    </tr>\n",
       "    <tr>\n",
       "      <th>3</th>\n",
       "      <td>b'London, UK'</td>\n",
       "      <td>b'UKVisaBarrister'</td>\n",
       "    </tr>\n",
       "    <tr>\n",
       "      <th>4</th>\n",
       "      <td>b''</td>\n",
       "      <td>b'make_home_cozy'</td>\n",
       "    </tr>\n",
       "    <tr>\n",
       "      <th>...</th>\n",
       "      <td>...</td>\n",
       "      <td>...</td>\n",
       "    </tr>\n",
       "    <tr>\n",
       "      <th>6714</th>\n",
       "      <td>b'Birmingham UK, Luxembourg City'</td>\n",
       "      <td>b'JennyN68'</td>\n",
       "    </tr>\n",
       "    <tr>\n",
       "      <th>6715</th>\n",
       "      <td>b'Mumbai'</td>\n",
       "      <td>b'BMBlogHost'</td>\n",
       "    </tr>\n",
       "    <tr>\n",
       "      <th>6716</th>\n",
       "      <td>b'Mumbai, India'</td>\n",
       "      <td>b'Mayuri6'</td>\n",
       "    </tr>\n",
       "    <tr>\n",
       "      <th>6717</th>\n",
       "      <td>b'United States US'</td>\n",
       "      <td>b'zobjobsUS'</td>\n",
       "    </tr>\n",
       "    <tr>\n",
       "      <th>6718</th>\n",
       "      <td>b'United Kingdom UK GB'</td>\n",
       "      <td>b'zobjobsGB'</td>\n",
       "    </tr>\n",
       "  </tbody>\n",
       "</table>\n",
       "<p>6719 rows × 2 columns</p>\n",
       "</div>"
      ],
      "text/plain": [
       "                               location         screen_name\n",
       "0                                   b''         b'KostNixx'\n",
       "1           b'Somerset, United Kingdom'   b'videoactualize'\n",
       "2                    b'London, England'       b'FlexispotU'\n",
       "3                         b'London, UK'  b'UKVisaBarrister'\n",
       "4                                   b''   b'make_home_cozy'\n",
       "...                                 ...                 ...\n",
       "6714  b'Birmingham UK, Luxembourg City'         b'JennyN68'\n",
       "6715                          b'Mumbai'       b'BMBlogHost'\n",
       "6716                   b'Mumbai, India'          b'Mayuri6'\n",
       "6717                b'United States US'        b'zobjobsUS'\n",
       "6718            b'United Kingdom UK GB'        b'zobjobsGB'\n",
       "\n",
       "[6719 rows x 2 columns]"
      ]
     },
     "execution_count": 15,
     "metadata": {},
     "output_type": "execute_result"
    }
   ],
   "source": [
    "user_text=pd.DataFrame(data=tweets,columns=['location', 'screen_name'])\n",
    "user_text"
   ]
  },
  {
   "cell_type": "code",
   "execution_count": 23,
   "id": "e7601877",
   "metadata": {},
   "outputs": [
    {
     "name": "stdout",
     "output_type": "stream",
     "text": [
      "HEADER:\n",
      "['screen_name']\n",
      "<class 'dict'>\n",
      "Data:\n"
     ]
    },
    {
     "ename": "KeyError",
     "evalue": "0",
     "output_type": "error",
     "traceback": [
      "\u001b[1;31m---------------------------------------------------------------------------\u001b[0m",
      "\u001b[1;31mKeyError\u001b[0m                                  Traceback (most recent call last)",
      "\u001b[1;32m~\\AppData\\Local\\Temp/ipykernel_6772/3250458763.py\u001b[0m in \u001b[0;36m<module>\u001b[1;34m\u001b[0m\n\u001b[0;32m      9\u001b[0m \u001b[0mprint\u001b[0m\u001b[1;33m(\u001b[0m\u001b[1;34m\"Data:\"\u001b[0m\u001b[1;33m)\u001b[0m\u001b[1;33m\u001b[0m\u001b[1;33m\u001b[0m\u001b[0m\n\u001b[0;32m     10\u001b[0m \u001b[1;32mfor\u001b[0m \u001b[0mline_no\u001b[0m\u001b[1;33m,\u001b[0m\u001b[0mline\u001b[0m \u001b[1;32min\u001b[0m \u001b[0menumerate\u001b[0m\u001b[1;33m(\u001b[0m\u001b[0mtweets\u001b[0m\u001b[1;33m,\u001b[0m\u001b[1;36m1\u001b[0m\u001b[1;33m)\u001b[0m\u001b[1;33m:\u001b[0m\u001b[1;33m\u001b[0m\u001b[1;33m\u001b[0m\u001b[0m\n\u001b[1;32m---> 11\u001b[1;33m     \u001b[0mprint\u001b[0m\u001b[1;33m(\u001b[0m\u001b[0mline\u001b[0m\u001b[1;33m[\u001b[0m\u001b[1;36m0\u001b[0m\u001b[1;33m]\u001b[0m\u001b[1;33m)\u001b[0m\u001b[1;33m\u001b[0m\u001b[1;33m\u001b[0m\u001b[0m\n\u001b[0m\u001b[0;32m     12\u001b[0m     \u001b[0mprint\u001b[0m\u001b[1;33m(\u001b[0m\u001b[0mline\u001b[0m\u001b[1;33m[\u001b[0m\u001b[1;36m1\u001b[0m\u001b[1;33m]\u001b[0m\u001b[1;33m)\u001b[0m\u001b[1;33m\u001b[0m\u001b[1;33m\u001b[0m\u001b[0m\n\u001b[0;32m     13\u001b[0m \u001b[1;33m\u001b[0m\u001b[0m\n",
      "\u001b[1;31mKeyError\u001b[0m: 0"
     ]
    }
   ],
   "source": [
    "import csv\n",
    "\n",
    "tweetnew=open(r'C:\\Users\\DELL\\Desktop\\RNTU\\dataset prepared\\workfromhome\\hWFH_COMBINE.csv',encoding='utf-8')\n",
    "\n",
    "tweets=csv.DictReader(tweetnew)\n",
    "print(\"HEADER:\")\n",
    "print([\"screen_name\"])\n",
    "print(type(line))\n",
    "print(\"Data:\")\n",
    "for line_no,line in enumerate(tweets,1):\n",
    "    print(line[0])\n",
    "    print(line[1])\n",
    "\n",
    "\n",
    "\n"
   ]
  },
  {
   "cell_type": "code",
   "execution_count": 24,
   "id": "e3ed4a85",
   "metadata": {},
   "outputs": [
    {
     "ename": "SyntaxError",
     "evalue": "(unicode error) 'unicodeescape' codec can't decode bytes in position 2-3: truncated \\UXXXXXXXX escape (Temp/ipykernel_6772/1565722153.py, line 1)",
     "output_type": "error",
     "traceback": [
      "\u001b[1;36m  File \u001b[1;32m\"C:\\Users\\DELL\\AppData\\Local\\Temp/ipykernel_6772/1565722153.py\"\u001b[1;36m, line \u001b[1;32m1\u001b[0m\n\u001b[1;33m    data=pd.read_csv('C:\\Users\\DELL\\Desktop\\mask covid19\\mask dataset\\INDIA MASKTWEETS.csv',sep= ',\\s*',header=None).values\u001b[0m\n\u001b[1;37m                     ^\u001b[0m\n\u001b[1;31mSyntaxError\u001b[0m\u001b[1;31m:\u001b[0m (unicode error) 'unicodeescape' codec can't decode bytes in position 2-3: truncated \\UXXXXXXXX escape\n"
     ]
    }
   ],
   "source": [
    "data=pd.read_csv('C:\\Users\\DELL\\Desktop\\mask covid19\\mask dataset\\INDIA MASKTWEETS.csv',sep= ',\\s*',header=None).values\n",
    "pd.DataFrame(data.reshape(-1,4),columns=['created_at','text','screen_name','location'])"
   ]
  },
  {
   "cell_type": "code",
   "execution_count": 25,
   "id": "d06cc3d3",
   "metadata": {},
   "outputs": [
    {
     "ename": "KeyError",
     "evalue": "'location'",
     "output_type": "error",
     "traceback": [
      "\u001b[1;31m---------------------------------------------------------------------------\u001b[0m",
      "\u001b[1;31mKeyError\u001b[0m                                  Traceback (most recent call last)",
      "\u001b[1;32m~\\AppData\\Local\\Temp/ipykernel_6772/1971321131.py\u001b[0m in \u001b[0;36m<module>\u001b[1;34m\u001b[0m\n\u001b[0;32m      5\u001b[0m \u001b[0muser\u001b[0m\u001b[1;33m=\u001b[0m\u001b[1;33m[\u001b[0m\u001b[1;33m]\u001b[0m\u001b[1;33m\u001b[0m\u001b[1;33m\u001b[0m\u001b[0m\n\u001b[0;32m      6\u001b[0m \u001b[1;32mfor\u001b[0m \u001b[0mtweet\u001b[0m\u001b[1;33m,\u001b[0m\u001b[0mline\u001b[0m \u001b[1;32min\u001b[0m \u001b[0menumerate\u001b[0m\u001b[1;33m(\u001b[0m\u001b[0mtweets\u001b[0m\u001b[1;33m,\u001b[0m\u001b[1;36m1\u001b[0m\u001b[1;33m)\u001b[0m\u001b[1;33m:\u001b[0m\u001b[1;33m\u001b[0m\u001b[1;33m\u001b[0m\u001b[0m\n\u001b[1;32m----> 7\u001b[1;33m     \u001b[0muser\u001b[0m \u001b[1;33m=\u001b[0m\u001b[1;33m[\u001b[0m\u001b[1;33m[\u001b[0m\u001b[0mline\u001b[0m\u001b[1;33m[\u001b[0m\u001b[1;34m\"location\"\u001b[0m\u001b[1;33m]\u001b[0m\u001b[1;33m,\u001b[0m\u001b[0mline\u001b[0m\u001b[1;33m[\u001b[0m\u001b[1;34m\"screen_name\"\u001b[0m\u001b[1;33m]\u001b[0m\u001b[1;33m,\u001b[0m\u001b[0mline\u001b[0m\u001b[1;33m[\u001b[0m\u001b[1;34m\"text\"\u001b[0m\u001b[1;33m]\u001b[0m \u001b[1;33m]\u001b[0m\u001b[1;33m]\u001b[0m\u001b[1;33m\u001b[0m\u001b[1;33m\u001b[0m\u001b[0m\n\u001b[0m\u001b[0;32m      8\u001b[0m     \u001b[0mtweets_no_urls\u001b[0m \u001b[1;33m=\u001b[0m \u001b[1;33m[\u001b[0m\u001b[0mremove_url\u001b[0m\u001b[1;33m(\u001b[0m\u001b[0mline\u001b[0m\u001b[1;33m[\u001b[0m\u001b[1;34m\"text\"\u001b[0m\u001b[1;33m]\u001b[0m\u001b[1;33m)\u001b[0m\u001b[1;33m]\u001b[0m\u001b[1;33m\u001b[0m\u001b[1;33m\u001b[0m\u001b[0m\n\u001b[0;32m      9\u001b[0m     \u001b[0mprint\u001b[0m\u001b[1;33m(\u001b[0m\u001b[0mtweets_no_urls\u001b[0m\u001b[1;33m)\u001b[0m\u001b[1;33m\u001b[0m\u001b[1;33m\u001b[0m\u001b[0m\n",
      "\u001b[1;31mKeyError\u001b[0m: 'location'"
     ]
    }
   ],
   "source": [
    "\n",
    "import pandas as pd\n",
    "tweetnew=open(r'C:\\Users\\DELL\\Desktop\\mask covid19\\mask dataset\\INDIA MASKTWEETS.csv',encoding='utf-8')\n",
    "\n",
    "tweets=csv.DictReader(tweetnew)\n",
    "user=[]\n",
    "for tweet,line in enumerate(tweets,1):\n",
    "    user =[[line[\"location\"],line[\"screen_name\"],line[\"text\"] ]]\n",
    "    tweets_no_urls = [remove_url(line[\"text\"])]\n",
    "    print(tweets_no_urls)\n",
    "#user_text=pd.DataFrame(data=user,columns=['location', 'screen_name'])\n",
    "#user_text\n",
    "print(type(tweets))\n",
    "\n"
   ]
  },
  {
   "cell_type": "code",
   "execution_count": 85,
   "id": "86e558a3",
   "metadata": {},
   "outputs": [
    {
     "ename": "AttributeError",
     "evalue": "'DictReader' object has no attribute 'keys'",
     "output_type": "error",
     "traceback": [
      "\u001b[1;31m---------------------------------------------------------------------------\u001b[0m",
      "\u001b[1;31mAttributeError\u001b[0m                            Traceback (most recent call last)",
      "\u001b[1;32m<ipython-input-85-48ee7bb8bd91>\u001b[0m in \u001b[0;36m<module>\u001b[1;34m\u001b[0m\n\u001b[1;32m----> 1\u001b[1;33m \u001b[0mtweets_items\u001b[0m\u001b[1;33m=\u001b[0m\u001b[0mtweets\u001b[0m\u001b[1;33m.\u001b[0m\u001b[0mkeys\u001b[0m\u001b[1;33m(\u001b[0m\u001b[1;33m)\u001b[0m\u001b[1;33m\u001b[0m\u001b[1;33m\u001b[0m\u001b[0m\n\u001b[0m\u001b[0;32m      2\u001b[0m \u001b[0mprint\u001b[0m\u001b[1;33m(\u001b[0m\u001b[0mtweets_keys\u001b[0m\u001b[1;33m)\u001b[0m\u001b[1;33m\u001b[0m\u001b[1;33m\u001b[0m\u001b[0m\n",
      "\u001b[1;31mAttributeError\u001b[0m: 'DictReader' object has no attribute 'keys'"
     ]
    }
   ],
   "source": [
    "tweets_items=tweets.keys()\n",
    "print(tweets_keys)"
   ]
  },
  {
   "cell_type": "code",
   "execution_count": 82,
   "id": "1ac0148d",
   "metadata": {},
   "outputs": [
    {
     "name": "stdout",
     "output_type": "stream",
     "text": [
      "<class 'list'>\n"
     ]
    },
    {
     "data": {
      "text/html": [
       "<div>\n",
       "<style scoped>\n",
       "    .dataframe tbody tr th:only-of-type {\n",
       "        vertical-align: middle;\n",
       "    }\n",
       "\n",
       "    .dataframe tbody tr th {\n",
       "        vertical-align: top;\n",
       "    }\n",
       "\n",
       "    .dataframe thead th {\n",
       "        text-align: right;\n",
       "    }\n",
       "</style>\n",
       "<table border=\"1\" class=\"dataframe\">\n",
       "  <thead>\n",
       "    <tr style=\"text-align: right;\">\n",
       "      <th></th>\n",
       "      <th>location</th>\n",
       "      <th>screen_name</th>\n",
       "    </tr>\n",
       "  </thead>\n",
       "  <tbody>\n",
       "  </tbody>\n",
       "</table>\n",
       "</div>"
      ],
      "text/plain": [
       "Empty DataFrame\n",
       "Columns: [location, screen_name]\n",
       "Index: []"
      ]
     },
     "execution_count": 82,
     "metadata": {},
     "output_type": "execute_result"
    }
   ],
   "source": [
    "tweets_items=tweets.items()\n",
    "user = [[tweet.user.location,tweet.user.screen_name] for tweet in tweets]\n",
    "print(type(user))\n",
    "user_text=pd.DataFrame(data=user,columns=['location', 'screen_name'])\n",
    "user_text"
   ]
  },
  {
   "cell_type": "code",
   "execution_count": null,
   "id": "5c2696e6",
   "metadata": {},
   "outputs": [],
   "source": []
  }
 ],
 "metadata": {
  "kernelspec": {
   "display_name": "Python 3 (ipykernel)",
   "language": "python",
   "name": "python3"
  },
  "language_info": {
   "codemirror_mode": {
    "name": "ipython",
    "version": 3
   },
   "file_extension": ".py",
   "mimetype": "text/x-python",
   "name": "python",
   "nbconvert_exporter": "python",
   "pygments_lexer": "ipython3",
   "version": "3.8.8"
  }
 },
 "nbformat": 4,
 "nbformat_minor": 5
}
