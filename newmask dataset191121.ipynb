{
 "cells": [
  {
   "cell_type": "code",
   "execution_count": 1,
   "id": "1727fa42",
   "metadata": {},
   "outputs": [
    {
     "name": "stdout",
     "output_type": "stream",
     "text": [
      "cell 1 17\t\n"
     ]
    }
   ],
   "source": [
    "import os\n",
    "import pandas as pd\n",
    "import matplotlib.pyplot as plt\n",
    "import seaborn as sns\n",
    "import itertools\n",
    "import collections\n",
    "\n",
    "import tweepy as tw\n",
    "import nltk\n",
    "from nltk.corpus import stopwords\n",
    "import re\n",
    "import networkx\n",
    "from textblob import TextBlob\n",
    "\n",
    "import warnings\n",
    "import csv\n",
    "warnings.filterwarnings(\"ignore\")\n",
    "\n",
    "sns.set(font_scale=1.5)\n",
    "sns.set_style(\"whitegrid\")\n",
    "print(\"cell 1 17\\11\")"
   ]
  },
  {
   "cell_type": "code",
   "execution_count": 2,
   "id": "d98d8b5b",
   "metadata": {},
   "outputs": [
    {
     "name": "stdout",
     "output_type": "stream",
     "text": [
      "cell2  17/11\n"
     ]
    }
   ],
   "source": [
    "consumer_key=\"eqIQASCB8Y3FMj5Z1C5ikKzfc\"\n",
    "consumer_scret=\"aeEtnufunsCIwrqm7wNU9AEIyqF94FS6GY1c4z0zTs8qchjjqt\"\n",
    "access_token=\"1377948754658009093-BMOABJw3AlCOLAtd3x1ouIZiGJ4HNZ\"\n",
    "access_token_scret=\"I628eefbnpWzUDwvg9uV7ZtkDqzFcLUnOvYi56nEDbViE\"\n",
    "print(\"cell2  17/11\")"
   ]
  },
  {
   "cell_type": "code",
   "execution_count": 4,
   "id": "e4b7c48c",
   "metadata": {},
   "outputs": [
    {
     "name": "stdout",
     "output_type": "stream",
     "text": [
      "cell3  17/11\n"
     ]
    }
   ],
   "source": [
    "auth=tw.OAuthHandler(consumer_key,consumer_scret)\n",
    "auth.set_access_token(access_token,access_token_scret)\n",
    "api=tw.API(auth,wait_on_rate_limit=True)\n",
    "print(\"cell3  17/11\")\n",
    "me=api.me()\n"
   ]
  },
  {
   "cell_type": "code",
   "execution_count": 5,
   "id": "56fd67ac",
   "metadata": {},
   "outputs": [
    {
     "data": {
      "text/plain": [
       "User(_api=<tweepy.api.API object at 0x000002C2FFE97D30>, _json={'id': 1377948754658009093, 'id_str': '1377948754658009093', 'name': 'techiseasy', 'screen_name': 'techiseasy4', 'location': '', 'profile_location': None, 'description': '', 'url': None, 'entities': {'description': {'urls': []}}, 'protected': False, 'followers_count': 0, 'friends_count': 3, 'listed_count': 0, 'created_at': 'Fri Apr 02 11:39:35 +0000 2021', 'favourites_count': 0, 'utc_offset': None, 'time_zone': None, 'geo_enabled': False, 'verified': False, 'statuses_count': 6, 'lang': None, 'status': {'created_at': 'Sun Apr 04 12:49:07 +0000 2021', 'id': 1378691097573040131, 'id_str': '1378691097573040131', 'text': 'Hi this is python coding session 2', 'truncated': False, 'entities': {'hashtags': [], 'symbols': [], 'user_mentions': [], 'urls': []}, 'source': '<a href=\"https://twitter.com/techiseasy4\" rel=\"nofollow\">KIRTIFIRSTAPP</a>', 'in_reply_to_status_id': None, 'in_reply_to_status_id_str': None, 'in_reply_to_user_id': None, 'in_reply_to_user_id_str': None, 'in_reply_to_screen_name': None, 'geo': None, 'coordinates': None, 'place': None, 'contributors': None, 'is_quote_status': False, 'retweet_count': 0, 'favorite_count': 0, 'favorited': False, 'retweeted': False, 'lang': 'en'}, 'contributors_enabled': False, 'is_translator': False, 'is_translation_enabled': False, 'profile_background_color': 'F5F8FA', 'profile_background_image_url': None, 'profile_background_image_url_https': None, 'profile_background_tile': False, 'profile_image_url': 'http://abs.twimg.com/sticky/default_profile_images/default_profile_normal.png', 'profile_image_url_https': 'https://abs.twimg.com/sticky/default_profile_images/default_profile_normal.png', 'profile_banner_url': 'https://pbs.twimg.com/profile_banners/1377948754658009093/1620391380', 'profile_link_color': '1DA1F2', 'profile_sidebar_border_color': 'C0DEED', 'profile_sidebar_fill_color': 'DDEEF6', 'profile_text_color': '333333', 'profile_use_background_image': True, 'has_extended_profile': True, 'default_profile': True, 'default_profile_image': True, 'following': False, 'follow_request_sent': False, 'notifications': False, 'translator_type': 'none', 'withheld_in_countries': [], 'suspended': False, 'needs_phone_verification': False}, id=1377948754658009093, id_str='1377948754658009093', name='techiseasy', screen_name='techiseasy4', location='', profile_location=None, description='', url=None, entities={'description': {'urls': []}}, protected=False, followers_count=0, friends_count=3, listed_count=0, created_at=datetime.datetime(2021, 4, 2, 11, 39, 35), favourites_count=0, utc_offset=None, time_zone=None, geo_enabled=False, verified=False, statuses_count=6, lang=None, status=Status(_api=<tweepy.api.API object at 0x000002C2FFE97D30>, _json={'created_at': 'Sun Apr 04 12:49:07 +0000 2021', 'id': 1378691097573040131, 'id_str': '1378691097573040131', 'text': 'Hi this is python coding session 2', 'truncated': False, 'entities': {'hashtags': [], 'symbols': [], 'user_mentions': [], 'urls': []}, 'source': '<a href=\"https://twitter.com/techiseasy4\" rel=\"nofollow\">KIRTIFIRSTAPP</a>', 'in_reply_to_status_id': None, 'in_reply_to_status_id_str': None, 'in_reply_to_user_id': None, 'in_reply_to_user_id_str': None, 'in_reply_to_screen_name': None, 'geo': None, 'coordinates': None, 'place': None, 'contributors': None, 'is_quote_status': False, 'retweet_count': 0, 'favorite_count': 0, 'favorited': False, 'retweeted': False, 'lang': 'en'}, created_at=datetime.datetime(2021, 4, 4, 12, 49, 7), id=1378691097573040131, id_str='1378691097573040131', text='Hi this is python coding session 2', truncated=False, entities={'hashtags': [], 'symbols': [], 'user_mentions': [], 'urls': []}, source='KIRTIFIRSTAPP', source_url='https://twitter.com/techiseasy4', in_reply_to_status_id=None, in_reply_to_status_id_str=None, in_reply_to_user_id=None, in_reply_to_user_id_str=None, in_reply_to_screen_name=None, geo=None, coordinates=None, place=None, contributors=None, is_quote_status=False, retweet_count=0, favorite_count=0, favorited=False, retweeted=False, lang='en'), contributors_enabled=False, is_translator=False, is_translation_enabled=False, profile_background_color='F5F8FA', profile_background_image_url=None, profile_background_image_url_https=None, profile_background_tile=False, profile_image_url='http://abs.twimg.com/sticky/default_profile_images/default_profile_normal.png', profile_image_url_https='https://abs.twimg.com/sticky/default_profile_images/default_profile_normal.png', profile_banner_url='https://pbs.twimg.com/profile_banners/1377948754658009093/1620391380', profile_link_color='1DA1F2', profile_sidebar_border_color='C0DEED', profile_sidebar_fill_color='DDEEF6', profile_text_color='333333', profile_use_background_image=True, has_extended_profile=True, default_profile=True, default_profile_image=True, following=False, follow_request_sent=False, notifications=False, translator_type='none', withheld_in_countries=[], suspended=False, needs_phone_verification=False)"
      ]
     },
     "execution_count": 5,
     "metadata": {},
     "output_type": "execute_result"
    }
   ],
   "source": [
    "me"
   ]
  },
  {
   "cell_type": "code",
   "execution_count": null,
   "id": "c46cc76d",
   "metadata": {},
   "outputs": [],
   "source": [
    "import csv\n",
    "search_term = \"mask\" + \"-filter:retweets\"\n",
    "csvFile=open(r'C:\\Users\\DELL\\Desktop\\mask covid19\\mask dataset\\kirtigeocodeexperiment.csv','w')\n",
    "\n",
    "\n",
    "with csvFile:\n",
    "    csvWriter=csv.writer(csvFile)\n",
    "    for tweet in  tw.Cursor(api.search,\n",
    "                   q=search_term,count=10,\n",
    "                   lang=\"en\",\n",
    "                   since='2020-07-01').items():\n",
    "      csvWriter.writerow([tweet.created_at,tweet.text.encode('utf-8'),tweet.user.geocode,tweet.user.screen_name.encode('utf-8'),tweet.user.location.encode('utf-8')])\n",
    "print(type(tweet))\n",
    "print(\"file  updated\")"
   ]
  },
  {
   "cell_type": "code",
   "execution_count": null,
   "id": "9b5d604f",
   "metadata": {},
   "outputs": [],
   "source": [
    "\n",
    "search_term = \"mask\" + \"-filter:retweets\"\n",
    "tweets = tw.Cursor(api.search,\n",
    "                   q=search_term,count=1000,\n",
    "                   lang=\"en\",\n",
    "                   since='2020-07-01').items()\n"
   ]
  }
 ],
 "metadata": {
  "kernelspec": {
   "display_name": "Python 3",
   "language": "python",
   "name": "python3"
  },
  "language_info": {
   "codemirror_mode": {
    "name": "ipython",
    "version": 3
   },
   "file_extension": ".py",
   "mimetype": "text/x-python",
   "name": "python",
   "nbconvert_exporter": "python",
   "pygments_lexer": "ipython3",
   "version": "3.8.8"
  }
 },
 "nbformat": 4,
 "nbformat_minor": 5
}
